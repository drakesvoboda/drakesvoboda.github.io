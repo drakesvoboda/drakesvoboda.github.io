{
 "metadata": {
  "language_info": {
   "codemirror_mode": {
    "name": "ipython",
    "version": 3
   },
   "file_extension": ".py",
   "mimetype": "text/x-python",
   "name": "python",
   "nbconvert_exporter": "python",
   "pygments_lexer": "ipython3",
   "version": "3.7.6-final"
  },
  "orig_nbformat": 2,
  "kernelspec": {
   "name": "python3",
   "display_name": "Python 3",
   "language": "python"
  }
 },
 "nbformat": 4,
 "nbformat_minor": 2,
 "cells": [
  {
   "cell_type": "code",
   "execution_count": 3,
   "metadata": {},
   "outputs": [],
   "source": [
    "import numpy as np\n",
    "\n",
    "import torch\n",
    "import torch.nn as nn\n",
    "import torch.nn.functional as F\n",
    "\n",
    "from torch.utils.data import Dataset, DataLoader\n",
    "\n",
    "import deeplib\n",
    "import deeplib.session\n",
    "import deeplib.schedule\n",
    "import deeplib.callbacks\n",
    "import deeplib.validation\n",
    "\n",
    "from collections import defaultdict"
   ]
  },
  {
   "cell_type": "code",
   "execution_count": 34,
   "metadata": {},
   "outputs": [
    {
     "output_type": "execute_result",
     "data": {
      "text/plain": [
       "{'Bird': 0, 'Girraffe': 1, 'Elephant': 2, 'Mouse': 3, 'Other': 4}"
      ]
     },
     "metadata": {},
     "execution_count": 34
    }
   ],
   "source": [
    "idx2animal = [\n",
    "    \"Bird\",\n",
    "    \"Girraffe\",\n",
    "    \"Elephant\",\n",
    "    \"Mouse\",\n",
    "    \"Other\"\n",
    "]\n",
    "\n",
    "animal2idx = {animal: idx for idx, animal in enumerate(animal2idx)}\n",
    "\n",
    "animal2vec = {\n",
    "    \"Bird\": (1, 0, 0),\n",
    "    \"Girraffe\": (1, 1, 1),\n",
    "    \"Elephant\": (0, 1, 1),\n",
    "    \"Mouse\": (0, 0, 1)\n",
    "}\n",
    "\n",
    "vec2animal = { vec: animal for animal, vec in animal2vec.items() }\n",
    "vec2animal = defaultdict(lambda: \"Other\", vec2animal)\n",
    "\n",
    "class MyDataset(Dataset):\n",
    "    def __init__(self, length):\n",
    "        super().__init__()\n",
    "        self.length = length\n",
    "\n",
    "    def __len__(self): return self.length\n",
    "\n",
    "    def __getitem__(self, idx):\n",
    "        x = torch.zeros(3) + 0.5\n",
    "        x = torch.bernoulli(x).tolist()\n",
    "\n",
    "        animal = vec2animal[tuple(x)]\n",
    "\n",
    "        return x, animal2idx[animal]\n",
    "\n",
    "dataset = MyDataset(100)\n",
    "\n",
    "dataloader = DataLoader(dataset, shuffle=False, batch_size=128)"
   ]
  },
  {
   "cell_type": "code",
   "execution_count": null,
   "metadata": {},
   "outputs": [],
   "source": [
    "class Model(nn.Module):\n",
    "    def __init__(self):\n",
    "        super().__init__()"
   ]
  }
 ]
}